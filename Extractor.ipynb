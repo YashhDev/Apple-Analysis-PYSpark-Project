{
 "cells": [
  {
   "cell_type": "code",
   "execution_count": 0,
   "metadata": {
    "application/vnd.databricks.v1+cell": {
     "cellMetadata": {
      "byteLimit": 2048000,
      "rowLimit": 10000
     },
     "inputWidgets": {},
     "nuid": "90a86580-a6e4-4806-8052-1db4446d5482",
     "showTitle": false,
     "tableResultSettingsMap": {},
     "title": ""
    }
   },
   "outputs": [],
   "source": [
    "class Extractor:\n",
    "    \"\"\"\n",
    "    Abstarct Class\n",
    "    \"\"\"\n",
    "    def __init__(self):\n",
    "        pass\n",
    "    def extract(self):\n",
    "        pass;\n",
    "class AirpodsAfterIphoneExtractor(Extractor):\n",
    "\n",
    "    def extractor(self):\n",
    "        \"\"\"\n",
    "        Implement the steps for extracting or reading data\n",
    "        \"\"\"\n",
    "        transactionInputDF = get_data_source(\n",
    "            data_type = 'csv',\n",
    "            file_path = 'dbfs:/FileStore/tables/Apple Analysis/Transaction_Updated.csv'\n",
    "        ).get_data_frame()\n",
    "        transactionInputDF.orderBy(\"customer_id\",\"transaction_id\").show()\n",
    "\n",
    "        print(\"Customer Delta Table\")\n",
    "        customerInputDF = get_data_source(\n",
    "            data_type = 'delta',\n",
    "            file_path = 'default.customer_deltatable'\n",
    "        ).get_data_frame()\n",
    "        customerInputDF.show()\n",
    "\n",
    "        inputDFs = {\n",
    "            \"transactionInputDF\": transactionInputDF,\n",
    "            \"customerInputDF\": customerInputDF\n",
    "        }\n",
    "\n",
    "        return inputDFs"
   ]
  },
  {
   "cell_type": "code",
   "execution_count": 0,
   "metadata": {
    "application/vnd.databricks.v1+cell": {
     "cellMetadata": {
      "byteLimit": 2048000,
      "rowLimit": 10000
     },
     "inputWidgets": {},
     "nuid": "49306ea0-6dd0-457f-8395-83d8fc42c445",
     "showTitle": false,
     "tableResultSettingsMap": {},
     "title": ""
    }
   },
   "outputs": [],
   "source": []
  }
 ],
 "metadata": {
  "application/vnd.databricks.v1+notebook": {
   "dashboards": [],
   "environmentMetadata": null,
   "language": "python",
   "notebookMetadata": {
    "pythonIndentUnit": 4
   },
   "notebookName": "Extractor",
   "widgets": {}
  }
 },
 "nbformat": 4,
 "nbformat_minor": 0
}
