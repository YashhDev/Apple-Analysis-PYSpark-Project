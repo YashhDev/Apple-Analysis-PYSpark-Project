{
 "cells": [
  {
   "cell_type": "code",
   "execution_count": 0,
   "metadata": {
    "application/vnd.databricks.v1+cell": {
     "cellMetadata": {
      "byteLimit": 2048000,
      "rowLimit": 10000
     },
     "inputWidgets": {},
     "nuid": "9a908e80-1edf-4a69-b8b0-e93f43f575b8",
     "showTitle": false,
     "tableResultSettingsMap": {},
     "title": ""
    }
   },
   "outputs": [],
   "source": [
    "%run \"./Loader Factory\""
   ]
  },
  {
   "cell_type": "code",
   "execution_count": 0,
   "metadata": {
    "application/vnd.databricks.v1+cell": {
     "cellMetadata": {
      "byteLimit": 2048000,
      "rowLimit": 10000
     },
     "inputWidgets": {},
     "nuid": "bd5ede8f-4df8-4c10-9101-5f511232f8b2",
     "showTitle": false,
     "tableResultSettingsMap": {},
     "title": ""
    }
   },
   "outputs": [],
   "source": [
    "class AbstractLoader:\n",
    "    def __init__(self, transformedDF):\n",
    "        self.transformedDF = transformedDF\n",
    "\n",
    "    def sink(self):\n",
    "\n",
    "        pass\n",
    "\n",
    "class AirPodsAfterIphoneLoader(AbstractLoader):\n",
    "\n",
    "    def sink(self):\n",
    "        get_sink_source(\n",
    "            sink_type = \"dbfs\",\n",
    "            df = self.transformedDF, \n",
    "            path = \"dbfs:/FileStore/tables/apple_analysis\", \n",
    "            method = \"overwrite\"\n",
    "        ).load_data_frame()\n",
    "\n",
    "class OnlyAirpodsAndIPhoneLoader(AbstractLoader):\n",
    "\n",
    "    def sink(self):\n",
    "        params = {\n",
    "            \"partitionByColumns\": [\"location\"]\n",
    "        }\n",
    "        get_sink_source(\n",
    "            sink_type = \"dbfs_with_partition\",\n",
    "            df = self.transformedDF, \n",
    "            path = \"dbfs:/FileStore/tables/apple_analysis\", \n",
    "            method = \"overwrite\",\n",
    "            params = params\n",
    "        ).load_data_frame()\n",
    "\n",
    "        # get_sink_source(\n",
    "        #     sink_type = \"delta\",\n",
    "        #     df = self.transformedDF, \n",
    "        #     path = \"default.onlyAirPodsAndIphone\", \n",
    "        #     method = \"overwrite\",\n",
    "        # ).load_data_frame()           \n"
   ]
  }
 ],
 "metadata": {
  "application/vnd.databricks.v1+notebook": {
   "dashboards": [],
   "environmentMetadata": null,
   "language": "python",
   "notebookMetadata": {
    "pythonIndentUnit": 4
   },
   "notebookName": "Loader",
   "widgets": {}
  }
 },
 "nbformat": 4,
 "nbformat_minor": 0
}
