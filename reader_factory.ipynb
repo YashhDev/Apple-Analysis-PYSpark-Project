{
 "cells": [
  {
   "cell_type": "code",
   "execution_count": 0,
   "metadata": {
    "application/vnd.databricks.v1+cell": {
     "cellMetadata": {
      "byteLimit": 2048000,
      "rowLimit": 10000
     },
     "inputWidgets": {},
     "nuid": "f628af7b-8f35-464d-a8c4-5512d85b5e62",
     "showTitle": false,
     "tableResultSettingsMap": {},
     "title": ""
    }
   },
   "outputs": [],
   "source": [
    "class DataSource:\n",
    "    \"\"\"\n",
    "        Abstract class\n",
    "    \"\"\"\n",
    "\n",
    "    def __init__(self,path):\n",
    "        self.path = path\n",
    "    def get_data_frame(self):\n",
    "        '''\n",
    "            Abstract Method,Function will be defined in sub classes\n",
    "        '''\n",
    "        rasie.ValueError('Not Implemented')\n",
    "\n",
    "class CSVDataSource(DataSource):\n",
    "    def get_data_frame(self):\n",
    "\n",
    "        return(\n",
    "            spark.read.format('csv').\n",
    "            option('header',True).\n",
    "            load(self.path)\n",
    "        )\n",
    "class ParquestDataSource(DataSource):\n",
    "    def get_data_frame(self):\n",
    "\n",
    "        return{\n",
    "            spark.read.format('parquet').\n",
    "            load(self.path)\n",
    "        }\n",
    "class DeltaDataSource(DataSource):\n",
    "    def get_data_frame(self):\n",
    "        table_name = self.path\n",
    "        return(\n",
    "            spark.read.table(table_name)\n",
    "        )\n",
    "def get_data_source(data_type, file_path):\n",
    "    \n",
    "    if data_type == 'csv':\n",
    "        return CSVDataSource(file_path)\n",
    "    elif data_type == 'parquet':\n",
    "        return ParquestDataSource(file_path)\n",
    "    elif data_type == 'delta':\n",
    "        return DeltaDataSource(file_path)\n",
    "    else:\n",
    "        raise ValueError(f\"Not implemented for provided data_type: {data_type}\")"
   ]
  }
 ],
 "metadata": {
  "application/vnd.databricks.v1+notebook": {
   "dashboards": [],
   "environmentMetadata": null,
   "language": "python",
   "notebookMetadata": {
    "pythonIndentUnit": 4
   },
   "notebookName": "reader_factory",
   "widgets": {}
  }
 },
 "nbformat": 4,
 "nbformat_minor": 0
}
