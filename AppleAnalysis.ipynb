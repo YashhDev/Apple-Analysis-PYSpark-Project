{
 "cells": [
  {
   "cell_type": "code",
   "execution_count": 0,
   "metadata": {
    "application/vnd.databricks.v1+cell": {
     "cellMetadata": {
      "byteLimit": 2048000,
      "rowLimit": 10000
     },
     "inputWidgets": {},
     "nuid": "28ed1af1-fb9b-48cc-90b7-ff36474d321c",
     "showTitle": false,
     "tableResultSettingsMap": {},
     "title": ""
    }
   },
   "outputs": [],
   "source": [
    "%run \"./Transform\""
   ]
  },
  {
   "cell_type": "code",
   "execution_count": 0,
   "metadata": {
    "application/vnd.databricks.v1+cell": {
     "cellMetadata": {
      "byteLimit": 2048000,
      "rowLimit": 10000
     },
     "inputWidgets": {},
     "nuid": "60495280-2ba4-45fe-a1b8-2afb42ab9bcd",
     "showTitle": false,
     "tableResultSettingsMap": {},
     "title": ""
    }
   },
   "outputs": [],
   "source": [
    "%run \"./Extractor\""
   ]
  },
  {
   "cell_type": "code",
   "execution_count": 0,
   "metadata": {
    "application/vnd.databricks.v1+cell": {
     "cellMetadata": {
      "byteLimit": 2048000,
      "rowLimit": 10000
     },
     "inputWidgets": {},
     "nuid": "5910bcae-617c-4fc9-8938-50800fb67f1d",
     "showTitle": false,
     "tableResultSettingsMap": {},
     "title": ""
    }
   },
   "outputs": [],
   "source": [
    "%run \"./Loader\""
   ]
  },
  {
   "cell_type": "code",
   "execution_count": 0,
   "metadata": {
    "application/vnd.databricks.v1+cell": {
     "cellMetadata": {
      "byteLimit": 2048000,
      "rowLimit": 10000
     },
     "inputWidgets": {},
     "nuid": "4fc69904-7b61-4a2a-8104-5827e0f51900",
     "showTitle": false,
     "tableResultSettingsMap": {},
     "title": ""
    }
   },
   "outputs": [],
   "source": [
    "class FirstWorkFlow:\n",
    "    \"\"\"\n",
    "    ETL pipeline to generate the data for customer who have \n",
    "    bought airpods just after buying iphone\n",
    "    \"\"\"\n",
    "    def __init__(self):\n",
    "        pass\n",
    "    def runner(self):\n",
    "        #Step-1 Extract all required data from different soruce\n",
    "        inputDFs = AirpodsAfterIphoneExtractor().extractor()\n",
    "\n",
    "        #Step-2 Implement the transformer logic\n",
    "        # Customer who have brought airpods after iphone\n",
    "        AirpodsAfterIphoneTransformerDF = AirpodsAfterIphoneTransformer().transform(inputDFs)\n",
    "\n",
    "        #Step 3: Load all the required data to different sink\n",
    "        AirPodsAfterIphoneLoader(AirpodsAfterIphoneTransformerDF).sink()\n"
   ]
  },
  {
   "cell_type": "code",
   "execution_count": 0,
   "metadata": {
    "application/vnd.databricks.v1+cell": {
     "cellMetadata": {
      "byteLimit": 2048000,
      "rowLimit": 10000
     },
     "inputWidgets": {},
     "nuid": "9e5dc1f3-3cc3-4ee1-aca7-1935edb68fae",
     "showTitle": false,
     "tableResultSettingsMap": {},
     "title": ""
    }
   },
   "outputs": [],
   "source": [
    "class SecondWorkFlow:\n",
    "    \"\"\"\n",
    "    ETL pipeline to generate the data for customer who have \n",
    "    bought only airpods and iphone\n",
    "    \"\"\"\n",
    "    def __init__(self):\n",
    "        pass\n",
    "    def runner(self):\n",
    "        #Step-1 Extract all required data from different soruce\n",
    "        inputDFs =  AirpodsAfterIphoneExtractor().extractor()\n",
    "\n",
    "        #Step-2 Implement the transformer logic\n",
    "        # Customer who have brought airpods and  iphone\n",
    "        onlyAirpodsAndIphoneDF = OnlyAirpodsAndIphoneTransformer().transform(inputDFs)\n",
    "\n",
    "        #Step 3: Load all the required data to different sink\n",
    "        OnlyAirpodsAndIPhoneLoader(onlyAirpodsAndIphoneDF).sink()\n",
    "\n"
   ]
  },
  {
   "cell_type": "code",
   "execution_count": 0,
   "metadata": {
    "application/vnd.databricks.v1+cell": {
     "cellMetadata": {
      "byteLimit": 2048000,
      "rowLimit": 10000
     },
     "inputWidgets": {},
     "nuid": "13fad778-6128-471d-8732-8612af9fcf15",
     "showTitle": false,
     "tableResultSettingsMap": {},
     "title": ""
    }
   },
   "outputs": [],
   "source": [
    "class WorkFlowRunner:\n",
    "    def __init__(self,name):\n",
    "        self.name = name;\n",
    "    def runner(self):\n",
    "        if self.name == \"firstWorkFlow\":\n",
    "            return FirstWorkFlow().runner()\n",
    "        elif self.name == \"secondWorkFlow\":\n",
    "            return SecondWorkFlow().runner()\n",
    "\n",
    "name = \"secondWorkFlow\"\n",
    "# name = \"firstWorkFlow\"\n",
    "\n",
    "workFolrunner = WorkFlowRunner(name).runner()"
   ]
  }
 ],
 "metadata": {
  "application/vnd.databricks.v1+notebook": {
   "dashboards": [],
   "environmentMetadata": null,
   "language": "python",
   "notebookMetadata": {
    "pythonIndentUnit": 4
   },
   "notebookName": "AppleAnalysis",
   "widgets": {}
  }
 },
 "nbformat": 4,
 "nbformat_minor": 0
}
